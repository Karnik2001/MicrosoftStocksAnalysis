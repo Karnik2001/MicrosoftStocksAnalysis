{
 "cells": [
  {
   "cell_type": "code",
   "execution_count": 1,
   "id": "554799a4",
   "metadata": {
    "scrolled": true
   },
   "outputs": [],
   "source": [
    "import numpy as np\n",
    "import pandas as pd\n",
    "import pandas_ta as ta\n",
    "import matplotlib.pyplot as plt\n",
    "import datetime\n",
    "from datetime import date, time\n",
    "import yfinance as yf\n",
    "from yahoofinancials import YahooFinancials\n",
    "from sklearn.neural_network import MLPClassifier\n",
    "from sklearn.neural_network import MLPRegressor \n",
    "from sklearn.model_selection import train_test_split \n",
    "from sklearn.metrics import mean_squared_error \n",
    "from math import sqrt  \n",
    "from sklearn.metrics import r2_score \n",
    "from sklearn.metrics import classification_report, confusion_matrix\n",
    "import warnings\n",
    "warnings.filterwarnings(\"ignore\")"
   ]
  },
  {
   "cell_type": "code",
   "execution_count": 2,
   "id": "8fb6179a",
   "metadata": {},
   "outputs": [
    {
     "data": {
      "text/html": [
       "<div>\n",
       "<style scoped>\n",
       "    .dataframe tbody tr th:only-of-type {\n",
       "        vertical-align: middle;\n",
       "    }\n",
       "\n",
       "    .dataframe tbody tr th {\n",
       "        vertical-align: top;\n",
       "    }\n",
       "\n",
       "    .dataframe thead th {\n",
       "        text-align: right;\n",
       "    }\n",
       "</style>\n",
       "<table border=\"1\" class=\"dataframe\">\n",
       "  <thead>\n",
       "    <tr style=\"text-align: right;\">\n",
       "      <th></th>\n",
       "      <th>Date</th>\n",
       "      <th>Open</th>\n",
       "      <th>High</th>\n",
       "      <th>Low</th>\n",
       "      <th>Close</th>\n",
       "      <th>Adj Close</th>\n",
       "      <th>Volume</th>\n",
       "    </tr>\n",
       "  </thead>\n",
       "  <tbody>\n",
       "    <tr>\n",
       "      <th>0</th>\n",
       "      <td>2002-05-23</td>\n",
       "      <td>1.156429</td>\n",
       "      <td>1.242857</td>\n",
       "      <td>1.145714</td>\n",
       "      <td>1.196429</td>\n",
       "      <td>1.196429</td>\n",
       "      <td>104790000</td>\n",
       "    </tr>\n",
       "    <tr>\n",
       "      <th>1</th>\n",
       "      <td>2002-05-24</td>\n",
       "      <td>1.214286</td>\n",
       "      <td>1.225000</td>\n",
       "      <td>1.197143</td>\n",
       "      <td>1.210000</td>\n",
       "      <td>1.210000</td>\n",
       "      <td>11104800</td>\n",
       "    </tr>\n",
       "    <tr>\n",
       "      <th>2</th>\n",
       "      <td>2002-05-28</td>\n",
       "      <td>1.213571</td>\n",
       "      <td>1.232143</td>\n",
       "      <td>1.157143</td>\n",
       "      <td>1.157143</td>\n",
       "      <td>1.157143</td>\n",
       "      <td>6609400</td>\n",
       "    </tr>\n",
       "    <tr>\n",
       "      <th>3</th>\n",
       "      <td>2002-05-29</td>\n",
       "      <td>1.164286</td>\n",
       "      <td>1.164286</td>\n",
       "      <td>1.085714</td>\n",
       "      <td>1.103571</td>\n",
       "      <td>1.103571</td>\n",
       "      <td>6757800</td>\n",
       "    </tr>\n",
       "    <tr>\n",
       "      <th>4</th>\n",
       "      <td>2002-05-30</td>\n",
       "      <td>1.107857</td>\n",
       "      <td>1.107857</td>\n",
       "      <td>1.071429</td>\n",
       "      <td>1.071429</td>\n",
       "      <td>1.071429</td>\n",
       "      <td>10154200</td>\n",
       "    </tr>\n",
       "    <tr>\n",
       "      <th>...</th>\n",
       "      <td>...</td>\n",
       "      <td>...</td>\n",
       "      <td>...</td>\n",
       "      <td>...</td>\n",
       "      <td>...</td>\n",
       "      <td>...</td>\n",
       "      <td>...</td>\n",
       "    </tr>\n",
       "    <tr>\n",
       "      <th>5039</th>\n",
       "      <td>2022-05-27</td>\n",
       "      <td>193.190002</td>\n",
       "      <td>195.250000</td>\n",
       "      <td>190.369995</td>\n",
       "      <td>195.190002</td>\n",
       "      <td>195.190002</td>\n",
       "      <td>8586000</td>\n",
       "    </tr>\n",
       "    <tr>\n",
       "      <th>5040</th>\n",
       "      <td>2022-05-31</td>\n",
       "      <td>196.179993</td>\n",
       "      <td>199.949997</td>\n",
       "      <td>190.800003</td>\n",
       "      <td>197.440002</td>\n",
       "      <td>197.440002</td>\n",
       "      <td>11398500</td>\n",
       "    </tr>\n",
       "    <tr>\n",
       "      <th>5041</th>\n",
       "      <td>2022-06-01</td>\n",
       "      <td>198.699997</td>\n",
       "      <td>202.740005</td>\n",
       "      <td>191.660004</td>\n",
       "      <td>192.910004</td>\n",
       "      <td>192.910004</td>\n",
       "      <td>8416200</td>\n",
       "    </tr>\n",
       "    <tr>\n",
       "      <th>5042</th>\n",
       "      <td>2022-06-02</td>\n",
       "      <td>192.020004</td>\n",
       "      <td>205.470001</td>\n",
       "      <td>191.720001</td>\n",
       "      <td>205.089996</td>\n",
       "      <td>205.089996</td>\n",
       "      <td>9623100</td>\n",
       "    </tr>\n",
       "    <tr>\n",
       "      <th>5043</th>\n",
       "      <td>2022-06-03</td>\n",
       "      <td>200.139999</td>\n",
       "      <td>202.949997</td>\n",
       "      <td>198.050003</td>\n",
       "      <td>198.979996</td>\n",
       "      <td>198.979996</td>\n",
       "      <td>7181700</td>\n",
       "    </tr>\n",
       "  </tbody>\n",
       "</table>\n",
       "<p>5044 rows × 7 columns</p>\n",
       "</div>"
      ],
      "text/plain": [
       "            Date        Open        High         Low       Close   Adj Close  \\\n",
       "0     2002-05-23    1.156429    1.242857    1.145714    1.196429    1.196429   \n",
       "1     2002-05-24    1.214286    1.225000    1.197143    1.210000    1.210000   \n",
       "2     2002-05-28    1.213571    1.232143    1.157143    1.157143    1.157143   \n",
       "3     2002-05-29    1.164286    1.164286    1.085714    1.103571    1.103571   \n",
       "4     2002-05-30    1.107857    1.107857    1.071429    1.071429    1.071429   \n",
       "...          ...         ...         ...         ...         ...         ...   \n",
       "5039  2022-05-27  193.190002  195.250000  190.369995  195.190002  195.190002   \n",
       "5040  2022-05-31  196.179993  199.949997  190.800003  197.440002  197.440002   \n",
       "5041  2022-06-01  198.699997  202.740005  191.660004  192.910004  192.910004   \n",
       "5042  2022-06-02  192.020004  205.470001  191.720001  205.089996  205.089996   \n",
       "5043  2022-06-03  200.139999  202.949997  198.050003  198.979996  198.979996   \n",
       "\n",
       "         Volume  \n",
       "0     104790000  \n",
       "1      11104800  \n",
       "2       6609400  \n",
       "3       6757800  \n",
       "4      10154200  \n",
       "...         ...  \n",
       "5039    8586000  \n",
       "5040   11398500  \n",
       "5041    8416200  \n",
       "5042    9623100  \n",
       "5043    7181700  \n",
       "\n",
       "[5044 rows x 7 columns]"
      ]
     },
     "execution_count": 2,
     "metadata": {},
     "output_type": "execute_result"
    }
   ],
   "source": [
    "netflix = pd.read_csv(r\"C:\\Users\\visha\\Downloads\\NFLX.csv\")\n",
    "netflix"
   ]
  },
  {
   "cell_type": "code",
   "execution_count": 3,
   "id": "2d61b73a",
   "metadata": {},
   "outputs": [
    {
     "name": "stdout",
     "output_type": "stream",
     "text": [
      "<class 'pandas.core.frame.DataFrame'>\n",
      "RangeIndex: 5044 entries, 0 to 5043\n",
      "Data columns (total 7 columns):\n",
      " #   Column     Non-Null Count  Dtype  \n",
      "---  ------     --------------  -----  \n",
      " 0   Date       5044 non-null   object \n",
      " 1   Open       5044 non-null   float64\n",
      " 2   High       5044 non-null   float64\n",
      " 3   Low        5044 non-null   float64\n",
      " 4   Close      5044 non-null   float64\n",
      " 5   Adj Close  5044 non-null   float64\n",
      " 6   Volume     5044 non-null   int64  \n",
      "dtypes: float64(5), int64(1), object(1)\n",
      "memory usage: 276.0+ KB\n"
     ]
    }
   ],
   "source": [
    "netflix.info()"
   ]
  },
  {
   "cell_type": "code",
   "execution_count": 4,
   "id": "648870f4",
   "metadata": {},
   "outputs": [
    {
     "data": {
      "text/plain": [
       "Date         0\n",
       "Open         0\n",
       "High         0\n",
       "Low          0\n",
       "Close        0\n",
       "Adj Close    0\n",
       "Volume       0\n",
       "dtype: int64"
      ]
     },
     "execution_count": 4,
     "metadata": {},
     "output_type": "execute_result"
    }
   ],
   "source": [
    "netflix.isnull().sum()"
   ]
  },
  {
   "cell_type": "code",
   "execution_count": 5,
   "id": "5ecdb443",
   "metadata": {},
   "outputs": [
    {
     "data": {
      "image/png": "[encoded data removed]",
      "text/plain": [
       "<Figure size 640x480 with 1 Axes>"
      ]
     },
     "metadata": {},
     "output_type": "display_data"
    }
   ],
   "source": [
    "netflix.plot(y='Close',title = 'Netflix Stock')\n",
    "plt.show()"
   ]
  },
  {
   "cell_type": "code",
   "execution_count": 6,
   "id": "0a31e66b",
   "metadata": {},
   "outputs": [],
   "source": [
    "netflix['RSI(2)'] = ta.rsi(netflix['Close'],length=2)\n",
    "netflix['RSI(7)'] = ta.rsi(netflix['Close'],length=7)\n",
    "netflix['RSI(14)'] = ta.rsi(netflix['Close'],length=14)\n",
    "netflix['CCI(30)'] = ta.cci(close=netflix['Close'],length=30,high=netflix['High'],low=netflix['Low'])\n",
    "netflix['CCI(50)'] = ta.cci(close=netflix['Close'],length=50,high=netflix['High'],low=netflix['Low'])\n",
    "netflix['CCI(100)'] = ta.cci(close=netflix['Close'],length=100,high=netflix['High'],low=netflix['Low'])"
   ]
  },
  {
   "cell_type": "code",
   "execution_count": 7,
   "id": "2dd1d074",
   "metadata": {},
   "outputs": [
    {
     "data": {
      "text/html": [
       "<div>\n",
       "<style scoped>\n",
       "    .dataframe tbody tr th:only-of-type {\n",
       "        vertical-align: middle;\n",
       "    }\n",
       "\n",
       "    .dataframe tbody tr th {\n",
       "        vertical-align: top;\n",
       "    }\n",
       "\n",
       "    .dataframe thead th {\n",
       "        text-align: right;\n",
       "    }\n",
       "</style>\n",
       "<table border=\"1\" class=\"dataframe\">\n",
       "  <thead>\n",
       "    <tr style=\"text-align: right;\">\n",
       "      <th></th>\n",
       "      <th>Date</th>\n",
       "      <th>Open</th>\n",
       "      <th>High</th>\n",
       "      <th>Low</th>\n",
       "      <th>Close</th>\n",
       "      <th>Adj Close</th>\n",
       "      <th>Volume</th>\n",
       "      <th>RSI(2)</th>\n",
       "      <th>RSI(7)</th>\n",
       "      <th>RSI(14)</th>\n",
       "      <th>CCI(30)</th>\n",
       "      <th>CCI(50)</th>\n",
       "      <th>CCI(100)</th>\n",
       "    </tr>\n",
       "  </thead>\n",
       "  <tbody>\n",
       "    <tr>\n",
       "      <th>99</th>\n",
       "      <td>2002-10-14</td>\n",
       "      <td>0.464286</td>\n",
       "      <td>0.535000</td>\n",
       "      <td>0.463571</td>\n",
       "      <td>0.534286</td>\n",
       "      <td>0.534286</td>\n",
       "      <td>5272400</td>\n",
       "      <td>78.982667</td>\n",
       "      <td>48.446850</td>\n",
       "      <td>40.124564</td>\n",
       "      <td>-91.769325</td>\n",
       "      <td>-136.494324</td>\n",
       "      <td>-175.581418</td>\n",
       "    </tr>\n",
       "    <tr>\n",
       "      <th>100</th>\n",
       "      <td>2002-10-15</td>\n",
       "      <td>0.542857</td>\n",
       "      <td>0.585714</td>\n",
       "      <td>0.542143</td>\n",
       "      <td>0.550000</td>\n",
       "      <td>0.550000</td>\n",
       "      <td>4125800</td>\n",
       "      <td>83.265890</td>\n",
       "      <td>50.928339</td>\n",
       "      <td>41.722116</td>\n",
       "      <td>-65.222688</td>\n",
       "      <td>-105.894193</td>\n",
       "      <td>-151.008498</td>\n",
       "    </tr>\n",
       "    <tr>\n",
       "      <th>101</th>\n",
       "      <td>2002-10-16</td>\n",
       "      <td>0.529286</td>\n",
       "      <td>0.532857</td>\n",
       "      <td>0.442857</td>\n",
       "      <td>0.459286</td>\n",
       "      <td>0.459286</td>\n",
       "      <td>5800200</td>\n",
       "      <td>24.833705</td>\n",
       "      <td>38.460169</td>\n",
       "      <td>35.786127</td>\n",
       "      <td>-92.386639</td>\n",
       "      <td>-135.789001</td>\n",
       "      <td>-178.763871</td>\n",
       "    </tr>\n",
       "    <tr>\n",
       "      <th>102</th>\n",
       "      <td>2002-10-17</td>\n",
       "      <td>0.472143</td>\n",
       "      <td>0.585714</td>\n",
       "      <td>0.471429</td>\n",
       "      <td>0.550000</td>\n",
       "      <td>0.550000</td>\n",
       "      <td>7481600</td>\n",
       "      <td>68.726426</td>\n",
       "      <td>52.132210</td>\n",
       "      <td>44.317691</td>\n",
       "      <td>-62.365604</td>\n",
       "      <td>-103.025609</td>\n",
       "      <td>-150.759888</td>\n",
       "    </tr>\n",
       "    <tr>\n",
       "      <th>103</th>\n",
       "      <td>2002-10-18</td>\n",
       "      <td>0.585714</td>\n",
       "      <td>0.735714</td>\n",
       "      <td>0.585714</td>\n",
       "      <td>0.682857</td>\n",
       "      <td>0.682857</td>\n",
       "      <td>24904600</td>\n",
       "      <td>88.461837</td>\n",
       "      <td>65.303309</td>\n",
       "      <td>53.964569</td>\n",
       "      <td>-1.711510</td>\n",
       "      <td>-42.084922</td>\n",
       "      <td>-94.914981</td>\n",
       "    </tr>\n",
       "  </tbody>\n",
       "</table>\n",
       "</div>"
      ],
      "text/plain": [
       "           Date      Open      High       Low     Close  Adj Close    Volume  \\\n",
       "99   2002-10-14  0.464286  0.535000  0.463571  0.534286   0.534286   5272400   \n",
       "100  2002-10-15  0.542857  0.585714  0.542143  0.550000   0.550000   4125800   \n",
       "101  2002-10-16  0.529286  0.532857  0.442857  0.459286   0.459286   5800200   \n",
       "102  2002-10-17  0.472143  0.585714  0.471429  0.550000   0.550000   7481600   \n",
       "103  2002-10-18  0.585714  0.735714  0.585714  0.682857   0.682857  24904600   \n",
       "\n",
       "        RSI(2)     RSI(7)    RSI(14)    CCI(30)     CCI(50)    CCI(100)  \n",
       "99   78.982667  48.446850  40.124564 -91.769325 -136.494324 -175.581418  \n",
       "100  83.265890  50.928339  41.722116 -65.222688 -105.894193 -151.008498  \n",
       "101  24.833705  38.460169  35.786127 -92.386639 -135.789001 -178.763871  \n",
       "102  68.726426  52.132210  44.317691 -62.365604 -103.025609 -150.759888  \n",
       "103  88.461837  65.303309  53.964569  -1.711510  -42.084922  -94.914981  "
      ]
     },
     "execution_count": 7,
     "metadata": {},
     "output_type": "execute_result"
    },
    {
     "data": {
      "image/png": "[encoded data removed]",
      "text/plain": [
       "<Figure size 640x480 with 1 Axes>"
      ]
     },
     "metadata": {},
     "output_type": "display_data"
    },
    {
     "data": {
      "image/png": "[encoded data removed]",
      "text/plain": [
       "<Figure size 640x480 with 1 Axes>"
      ]
     },
     "metadata": {},
     "output_type": "display_data"
    }
   ],
   "source": [
    "netflix.plot(y='RSI(2)')\n",
    "netflix.plot(y='CCI(100)')\n",
    "netflix = netflix.dropna()\n",
    "netflix.head()"
   ]
  },
  {
   "cell_type": "code",
   "execution_count": 8,
   "id": "09d7ee39",
   "metadata": {},
   "outputs": [
    {
     "data": {
      "text/html": [
       "<div>\n",
       "<style scoped>\n",
       "    .dataframe tbody tr th:only-of-type {\n",
       "        vertical-align: middle;\n",
       "    }\n",
       "\n",
       "    .dataframe tbody tr th {\n",
       "        vertical-align: top;\n",
       "    }\n",
       "\n",
       "    .dataframe thead th {\n",
       "        text-align: right;\n",
       "    }\n",
       "</style>\n",
       "<table border=\"1\" class=\"dataframe\">\n",
       "  <thead>\n",
       "    <tr style=\"text-align: right;\">\n",
       "      <th></th>\n",
       "      <th>Date</th>\n",
       "      <th>Open</th>\n",
       "      <th>High</th>\n",
       "      <th>Low</th>\n",
       "      <th>Close</th>\n",
       "      <th>Adj Close</th>\n",
       "      <th>Volume</th>\n",
       "      <th>RSI(2)</th>\n",
       "      <th>RSI(7)</th>\n",
       "      <th>RSI(14)</th>\n",
       "      <th>CCI(30)</th>\n",
       "      <th>CCI(50)</th>\n",
       "      <th>CCI(100)</th>\n",
       "      <th>Label</th>\n",
       "    </tr>\n",
       "  </thead>\n",
       "  <tbody>\n",
       "    <tr>\n",
       "      <th>99</th>\n",
       "      <td>2002-10-14</td>\n",
       "      <td>0.464286</td>\n",
       "      <td>0.535000</td>\n",
       "      <td>0.463571</td>\n",
       "      <td>0.534286</td>\n",
       "      <td>0.534286</td>\n",
       "      <td>5272400</td>\n",
       "      <td>78.982667</td>\n",
       "      <td>48.446850</td>\n",
       "      <td>40.124564</td>\n",
       "      <td>-91.769325</td>\n",
       "      <td>-136.494324</td>\n",
       "      <td>-175.581418</td>\n",
       "      <td>0</td>\n",
       "    </tr>\n",
       "    <tr>\n",
       "      <th>100</th>\n",
       "      <td>2002-10-15</td>\n",
       "      <td>0.542857</td>\n",
       "      <td>0.585714</td>\n",
       "      <td>0.542143</td>\n",
       "      <td>0.550000</td>\n",
       "      <td>0.550000</td>\n",
       "      <td>4125800</td>\n",
       "      <td>83.265890</td>\n",
       "      <td>50.928339</td>\n",
       "      <td>41.722116</td>\n",
       "      <td>-65.222688</td>\n",
       "      <td>-105.894193</td>\n",
       "      <td>-151.008498</td>\n",
       "      <td>0</td>\n",
       "    </tr>\n",
       "    <tr>\n",
       "      <th>101</th>\n",
       "      <td>2002-10-16</td>\n",
       "      <td>0.529286</td>\n",
       "      <td>0.532857</td>\n",
       "      <td>0.442857</td>\n",
       "      <td>0.459286</td>\n",
       "      <td>0.459286</td>\n",
       "      <td>5800200</td>\n",
       "      <td>24.833705</td>\n",
       "      <td>38.460169</td>\n",
       "      <td>35.786127</td>\n",
       "      <td>-92.386639</td>\n",
       "      <td>-135.789001</td>\n",
       "      <td>-178.763871</td>\n",
       "      <td>1</td>\n",
       "    </tr>\n",
       "    <tr>\n",
       "      <th>102</th>\n",
       "      <td>2002-10-17</td>\n",
       "      <td>0.472143</td>\n",
       "      <td>0.585714</td>\n",
       "      <td>0.471429</td>\n",
       "      <td>0.550000</td>\n",
       "      <td>0.550000</td>\n",
       "      <td>7481600</td>\n",
       "      <td>68.726426</td>\n",
       "      <td>52.132210</td>\n",
       "      <td>44.317691</td>\n",
       "      <td>-62.365604</td>\n",
       "      <td>-103.025609</td>\n",
       "      <td>-150.759888</td>\n",
       "      <td>1</td>\n",
       "    </tr>\n",
       "    <tr>\n",
       "      <th>103</th>\n",
       "      <td>2002-10-18</td>\n",
       "      <td>0.585714</td>\n",
       "      <td>0.735714</td>\n",
       "      <td>0.585714</td>\n",
       "      <td>0.682857</td>\n",
       "      <td>0.682857</td>\n",
       "      <td>24904600</td>\n",
       "      <td>88.461837</td>\n",
       "      <td>65.303309</td>\n",
       "      <td>53.964569</td>\n",
       "      <td>-1.711510</td>\n",
       "      <td>-42.084922</td>\n",
       "      <td>-94.914981</td>\n",
       "      <td>0</td>\n",
       "    </tr>\n",
       "  </tbody>\n",
       "</table>\n",
       "</div>"
      ],
      "text/plain": [
       "           Date      Open      High       Low     Close  Adj Close    Volume  \\\n",
       "99   2002-10-14  0.464286  0.535000  0.463571  0.534286   0.534286   5272400   \n",
       "100  2002-10-15  0.542857  0.585714  0.542143  0.550000   0.550000   4125800   \n",
       "101  2002-10-16  0.529286  0.532857  0.442857  0.459286   0.459286   5800200   \n",
       "102  2002-10-17  0.472143  0.585714  0.471429  0.550000   0.550000   7481600   \n",
       "103  2002-10-18  0.585714  0.735714  0.585714  0.682857   0.682857  24904600   \n",
       "\n",
       "        RSI(2)     RSI(7)    RSI(14)    CCI(30)     CCI(50)    CCI(100) Label  \n",
       "99   78.982667  48.446850  40.124564 -91.769325 -136.494324 -175.581418     0  \n",
       "100  83.265890  50.928339  41.722116 -65.222688 -105.894193 -151.008498     0  \n",
       "101  24.833705  38.460169  35.786127 -92.386639 -135.789001 -178.763871     1  \n",
       "102  68.726426  52.132210  44.317691 -62.365604 -103.025609 -150.759888     1  \n",
       "103  88.461837  65.303309  53.964569  -1.711510  -42.084922  -94.914981     0  "
      ]
     },
     "execution_count": 8,
     "metadata": {},
     "output_type": "execute_result"
    }
   ],
   "source": [
    "netflix['Label'] = np.where(netflix['Open'].shift(-2).gt(netflix['Open'].shift(-1)),\"1\",\"0\")\n",
    "netflix = netflix.dropna()\n",
    "netflix.head()"
   ]
  },
  {
   "cell_type": "code",
   "execution_count": 9,
   "id": "c6cda471",
   "metadata": {},
   "outputs": [],
   "source": [
    "X = netflix[netflix.columns[6:-1]].values\n",
    "y = netflix['Label'].values"
   ]
  },
  {
   "cell_type": "code",
   "execution_count": 10,
   "id": "3bfc20b8",
   "metadata": {},
   "outputs": [],
   "source": [
    "X_train, X_test, y_train, y_test = train_test_split(X,y,test_size=0.5)"
   ]
  },
  {
   "cell_type": "code",
   "execution_count": 11,
   "id": "1be3ab92",
   "metadata": {},
   "outputs": [
    {
     "data": {
      "text/plain": [
       "MLPClassifier(hidden_layer_sizes=(8, 8, 8), max_iter=1000)"
      ]
     },
     "execution_count": 11,
     "metadata": {},
     "output_type": "execute_result"
    }
   ],
   "source": [
    "mlp = MLPClassifier(hidden_layer_sizes=(8,8,8), activation='relu', solver='adam', max_iter = 1000)\n",
    "mlp.fit(X_train,y_train)"
   ]
  },
  {
   "cell_type": "code",
   "execution_count": 12,
   "id": "7cc3de4d",
   "metadata": {},
   "outputs": [],
   "source": [
    "predict_train = mlp.predict(X_train)\n",
    "predict_test = mlp.predict(X_test)"
   ]
  },
  {
   "cell_type": "code",
   "execution_count": 13,
   "id": "e5958f1e",
   "metadata": {},
   "outputs": [
    {
     "name": "stdout",
     "output_type": "stream",
     "text": [
      "Train Data Accuracy\n",
      "              precision    recall  f1-score   support\n",
      "\n",
      "           0       0.50      1.00      0.67      1239\n",
      "           1       0.00      0.00      0.00      1233\n",
      "\n",
      "    accuracy                           0.50      2472\n",
      "   macro avg       0.25      0.50      0.33      2472\n",
      "weighted avg       0.25      0.50      0.33      2472\n",
      "\n"
     ]
    }
   ],
   "source": [
    "print('Train Data Accuracy')\n",
    "print(classification_report(y_train,predict_train))"
   ]
  },
  {
   "cell_type": "code",
   "execution_count": 14,
   "id": "92c19fd0",
   "metadata": {},
   "outputs": [
    {
     "name": "stdout",
     "output_type": "stream",
     "text": [
      "Train Data Accuracy\n",
      "              precision    recall  f1-score   support\n",
      "\n",
      "           0       0.49      1.00      0.66      1222\n",
      "           1       0.00      0.00      0.00      1251\n",
      "\n",
      "    accuracy                           0.49      2473\n",
      "   macro avg       0.25      0.50      0.33      2473\n",
      "weighted avg       0.24      0.49      0.33      2473\n",
      "\n"
     ]
    }
   ],
   "source": [
    "print('Train Data Accuracy')\n",
    "print(classification_report(y_test,predict_test))"
   ]
  },
  {
   "cell_type": "code",
   "execution_count": 15,
   "id": "38133139",
   "metadata": {},
   "outputs": [
    {
     "data": {
      "text/plain": [
       "[]"
      ]
     },
     "execution_count": 15,
     "metadata": {},
     "output_type": "execute_result"
    },
    {
     "data": {
      "image/png": "[encoded data removed]",
      "text/plain": [
       "<Figure size 640x480 with 1 Axes>"
      ]
     },
     "metadata": {},
     "output_type": "display_data"
    }
   ],
   "source": [
    "netflix['Prediction'] = np.append(predict_train,predict_test)\n",
    "netflix['Strategy Returns'] = np.where( netflix['Prediction'].eq(\"1\"),netflix['Open'].shift(-2)-netflix['Open'].shift(-1),0)\n",
    "\n",
    "netflix['Strategy Returns'] = netflix['Strategy Returns'].cumsum() \n",
    "\n",
    "netflix.plot(y='Strategy Returns')\n",
    "plt.plot()"
   ]
  },
  {
   "cell_type": "code",
   "execution_count": 16,
   "id": "06ae7ab4",
   "metadata": {},
   "outputs": [
    {
     "name": "stdout",
     "output_type": "stream",
     "text": [
      "Today's return forecast: DOWN\n"
     ]
    }
   ],
   "source": [
    "prediction = netflix.iloc[-1]['Prediction'] \n",
    "\n",
    "if prediction==\"1\":\n",
    "  print(\"Today's return forecast: UP\")\n",
    "else: \n",
    "  print(\"Today's return forecast: DOWN\")"
   ]
  },
  {
   "cell_type": "code",
   "execution_count": null,
   "id": "e59e9ab6",
   "metadata": {},
   "outputs": [],
   "source": []
  }
 ],
 "metadata": {
  "kernelspec": {
   "display_name": "Python 3 (ipykernel)",
   "language": "python",
   "name": "python3"
  },
  "language_info": {
   "codemirror_mode": {
    "name": "ipython",
    "version": 3
   },
   "file_extension": ".py",
   "mimetype": "text/x-python",
   "name": "python",
   "nbconvert_exporter": "python",
   "pygments_lexer": "ipython3",
   "version": "3.9.7"
  }
 },
 "nbformat": 4,
 "nbformat_minor": 5
}
